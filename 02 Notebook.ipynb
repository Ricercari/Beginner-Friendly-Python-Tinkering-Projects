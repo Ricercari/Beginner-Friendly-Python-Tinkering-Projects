{
 "cells": [
  {
   "cell_type": "code",
   "execution_count": null,
   "metadata": {},
   "outputs": [],
   "source": [
    "sun = \"down\"\n",
    "if sun == \"down\": \n",
    "    print(\"Good night!\")\n",
    "print(\"I am here\")\n",
    "if sun == \"up\":\n",
    "     print(\"Good night!\")\n",
    "print(\"I am here\")"
   ]
  },
  {
   "cell_type": "code",
   "execution_count": null,
   "metadata": {},
   "outputs": [],
   "source": [
    "total = 100\n",
    "sales_tax_rate = 0.035\n",
    "taxable = False\n",
    "if taxable:\n",
    "    print(f\"Subtotal : ${total:.2f}\")\n",
    "    sales_tax = total * sales_tax_rate\n",
    "    print(f\"Sales Tax: ${sales_tax:.2f}\")\n",
    "    total = total + sales_tax\n",
    "print(f\"Total       : ${total:.2f}\")"
   ]
  },
  {
   "cell_type": "code",
   "execution_count": null,
   "metadata": {},
   "outputs": [],
   "source": [
    "import datetime as dt\n",
    "\n",
    "now = dt.datetime.now()\n",
    "if now.hour < 12:\n",
    "    print(\"Good morning\")\n",
    "else: \n",
    "    print(\"Good afternoon\")\n",
    "print(\"I hope you are doing well\")"
   ]
  },
  {
   "cell_type": "code",
   "execution_count": null,
   "metadata": {},
   "outputs": [],
   "source": [
    "import pytz\n",
    "from datetime import datetime\n",
    "\n",
    "# Set your timezone here\n",
    "local_tz = pytz.timezone('Europe/Berlin')  # Example: Berlin timezone\n",
    "\n",
    "# Get the current time in the local timezone\n",
    "local_time = datetime.now(local_tz)\n",
    "\n",
    "# Extract the hour\n",
    "current_hour = local_time.hour\n",
    "\n",
    "# Determine the appropriate greeting\n",
    "if current_hour < 12:\n",
    "    greeting = \"Good Morning\"\n",
    "elif 12 <= current_hour < 18:\n",
    "    greeting = \"Guten Mittag\"  # Good Afternoon in German\n",
    "else:\n",
    "    greeting = \"Good Afternoon\"\n",
    "\n",
    "# Output the greeting along with the local time\n",
    "print(f\"{greeting}! The local time is {local_time.strftime('%H:%M')}.\")\n",
    "\n"
   ]
  },
  {
   "cell_type": "code",
   "execution_count": null,
   "metadata": {},
   "outputs": [],
   "source": [
    "product  = \"Plushie\"\n",
    "unit_price = 4.99\n",
    "taxable = False\n",
    "\n",
    "sales_tax_rate = 0.065 if taxable else 0\n",
    "\n",
    "print(sales_tax_rate)"
   ]
  },
  {
   "cell_type": "code",
   "execution_count": null,
   "metadata": {},
   "outputs": [],
   "source": [
    "for x in range(1,11):\n",
    "    print(x)\n",
    "print(\"All done\")"
   ]
  },
  {
   "cell_type": "code",
   "execution_count": null,
   "metadata": {},
   "outputs": [],
   "source": [
    "seven_dwarves = [\"Hi\", \"my\", \"Name\", \"is\", \"Ibrahim\"]\n",
    "for dwarf in seven_dwarves:\n",
    "    print(dwarf)\n",
    "print(\"And Snow White too\")\n"
   ]
  },
  {
   "cell_type": "code",
   "execution_count": null,
   "metadata": {},
   "outputs": [],
   "source": [
    "answers = [\"A\", \"C\", \"\", \"D\"]\n",
    "for answer in answers: \n",
    "    if answer == \"\":\n",
    "        print(\"Incomplete\")\n",
    "        break\n",
    "    print(answer) \n",
    "print(\"Loop is done\") #this last one is always executed"
   ]
  },
  {
   "cell_type": "code",
   "execution_count": null,
   "metadata": {},
   "outputs": [],
   "source": [
    "counter = 65\n",
    "while counter < 1000:\n",
    "    print(str(counter)+ \"=\" +chr(counter))\n",
    "    counter += 1\n",
    "print(\"all done\")"
   ]
  },
  {
   "cell_type": "code",
   "execution_count": 103,
   "metadata": {},
   "outputs": [
    {
     "name": "stdout",
     "output_type": "stream",
     "text": [
      "314\n",
      "816\n",
      "274\n",
      "271\n",
      "977\n",
      "621\n",
      "969\n",
      "43\n",
      "736\n",
      "623\n",
      "Loop is done\n"
     ]
    }
   ],
   "source": [
    "import random\n",
    "counter = 0\n",
    "while counter < 10:\n",
    "    number = random.randint(1,999)\n",
    "    if int(number / 5) == number / 5:\n",
    "        break\n",
    "    print(number)\n",
    "    counter += 1\n",
    "print(\"Loop is done\")"
   ]
  }
 ],
 "metadata": {
  "kernelspec": {
   "display_name": "Python 3",
   "language": "python",
   "name": "python3"
  },
  "language_info": {
   "codemirror_mode": {
    "name": "ipython",
    "version": 3
   },
   "file_extension": ".py",
   "mimetype": "text/x-python",
   "name": "python",
   "nbconvert_exporter": "python",
   "pygments_lexer": "ipython3",
   "version": "3.12.6"
  }
 },
 "nbformat": 4,
 "nbformat_minor": 2
}
