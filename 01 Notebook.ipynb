{
 "cells": [
  {
   "cell_type": "code",
   "execution_count": 58,
   "metadata": {},
   "outputs": [
    {
     "name": "stdout",
     "output_type": "stream",
     "text": [
      "\n",
      "Subtotal: $ 1,576.00\n",
      "Sales Tax: $   102.44\n",
      "Total: $ 1,678.44\n",
      "\n"
     ]
    }
   ],
   "source": [
    "unit_price = 49.25\n",
    "quantity = 32\n",
    "sales_tax_rate = 0.065\n",
    "subtotal = quantity * unit_price\n",
    "sales_tax = sales_tax_rate * subtotal\n",
    "total = subtotal + sales_tax\n",
    "output=f\"\"\"\n",
    "Subtotal: ${subtotal:>9,.2f}\n",
    "Sales Tax: ${sales_tax:>9,.2f}\n",
    "Total: ${total:>9,.2f}\n",
    "\"\"\"\n",
    "print(output)"
   ]
  },
  {
   "cell_type": "code",
   "execution_count": 59,
   "metadata": {},
   "outputs": [
    {
     "name": "stdout",
     "output_type": "stream",
     "text": [
      "Abc\n",
      "6\n",
      "8\n",
      "True\n",
      "abc\n",
      "a b c   \n",
      "a b c\n",
      "tHERE IS NO SUCH WORD AS HAKSASHAYYO\n",
      "There Is No Such Word As Haksashayyo\n",
      "THERE IS NO SUCH WORD AS HAKSASHAYYO\n"
     ]
    }
   ],
   "source": [
    "s1 = \"There is no such word as haksashayyo\"\n",
    "s2 = \"   a b c   \"\n",
    "s3 = \"ABC\"\n",
    "s4 = \"this is . a test .\"\n",
    "\n",
    "print(s3.capitalize())\n",
    "\n",
    "#count number of spaces\n",
    "print(s1.count(\" \"))\n",
    "\n",
    "print(s4.find(\".\"))\n",
    "print(s2.islower())\n",
    "print(s3.lower())\n",
    "print(s2.lstrip())\n",
    "print(s2.strip())\n",
    "print(s1.swapcase())\n",
    "print(s1.title())\n",
    "print(s1.upper())"
   ]
  },
  {
   "cell_type": "code",
   "execution_count": 60,
   "metadata": {},
   "outputs": [
    {
     "name": "stdout",
     "output_type": "stream",
     "text": [
      "2024-09-18\n",
      "2019-12-31\n",
      "9\n",
      "2024\n",
      "Tuesday, December 31, 2019\n",
      "00:00:00\n",
      "<class 'datetime.time'>\n",
      "23:59:59.099999\n",
      "2024-09-18 20:35:52.383542\n"
     ]
    }
   ],
   "source": [
    "import datetime as dt\n",
    "today = dt.date.today()\n",
    "last_of_teens = dt.date(2019, 12, 31)\n",
    "print(today)\n",
    "print(last_of_teens)\n",
    "print(today.month)\n",
    "print(today.year)\n",
    "\n",
    "print(f\"{last_of_teens:%A, %B %d, %Y}\")\n",
    "todays_date = f\"{today:%m/%d/%y}\"\n",
    "midnight = dt.time()\n",
    "print(midnight)\n",
    "print(type(midnight))\n",
    "almost_midnight = dt.time(23, 59, 59, 99999)\n",
    "print(almost_midnight)\n",
    "right_now = dt.datetime.now()\n",
    "print(right_now)"
   ]
  },
  {
   "cell_type": "code",
   "execution_count": 61,
   "metadata": {},
   "outputs": [
    {
     "name": "stdout",
     "output_type": "stream",
     "text": [
      "Current time in Boston: 2024-09-18 14:35:52\n",
      "Current local time: 2024-09-18 20:35:52\n",
      "Time difference from Boston: 6:00:00\n"
     ]
    }
   ],
   "source": [
    "from datetime import datetime\n",
    "import pytz\n",
    "\n",
    "# Define timezones\n",
    "boston_timezone = pytz.timezone('America/New_York')  # Boston\n",
    "local_timezone = pytz.timezone('Europe/Berlin')      # Replace with your timezone\n",
    "\n",
    "# Get current time in both timezones\n",
    "boston_now = datetime.now(boston_timezone)\n",
    "local_now = datetime.now(local_timezone)\n",
    "\n",
    "# Calculate the time difference\n",
    "time_difference = local_now.utcoffset() - boston_now.utcoffset()\n",
    "\n",
    "# Display the results\n",
    "print(f\"Current time in Boston: {boston_now.strftime('%Y-%m-%d %H:%M:%S')}\")\n",
    "print(f\"Current local time: {local_now.strftime('%Y-%m-%d %H:%M:%S')}\")\n",
    "print(f\"Time difference from Boston: {time_difference}\")\n",
    "\n"
   ]
  },
  {
   "cell_type": "code",
   "execution_count": 62,
   "metadata": {},
   "outputs": [
    {
     "name": "stdout",
     "output_type": "stream",
     "text": [
      "2024-09-18 18:35:56.699463+00:00\n",
      "Wednesday 09/18/24 06:35 PM UTC\n",
      "2024-09-18 20:35:56.700676+02:00\n",
      "Wednesday 09/18/24 08:35 PM CEST\n",
      "2024-09-18 12:35:56.700988-06:00\n",
      "09/18/24 12:35 PM MDT\n",
      "Local: 07/04/20 07:00 PM \n",
      "\n",
      "07/04/20 01:00 PM EDT\n"
     ]
    }
   ],
   "source": [
    "import datetime as dt\n",
    "from dateutil.tz import gettz\n",
    "\n",
    "#1\n",
    "utc = dt.datetime.now(gettz('Etc/UTC'))\n",
    "print(utc)\n",
    "print(f\"{utc:%A %D %I:%M %p %Z}\")\n",
    "#2\n",
    "est = dt.datetime.now(gettz('Europe/Berlin'))\n",
    "print(est)\n",
    "print(f\"{est:%A %D %I:%M %p %Z}\")\n",
    "#3\n",
    "mst=dt.datetime.now(gettz('America/Boise'))\n",
    "print(mst)\n",
    "print(f\"{mst:%D %I:%M %p %Z}\")\n",
    "#4\n",
    "event = dt.datetime(2020,7,4,19,0,0)\n",
    "print(\"Local: \" + f\"{event:%D %I:%M %p %Z}\" + \"\\n\")\n",
    "#5\n",
    "event_eastern = event.astimezone(gettz(\"America/New_York\"))\n",
    "print(f\"{event_eastern:%D %I:%M %p %Z}\")"
   ]
  },
  {
   "cell_type": "code",
   "execution_count": 63,
   "metadata": {},
   "outputs": [
    {
     "name": "stdout",
     "output_type": "stream",
     "text": [
      "My time     : 08:35 PM\n",
      "UTC time    : 08:35 PM\n"
     ]
    }
   ],
   "source": [
    "import datetime as dt\n",
    "\n",
    "here_now = dt.datetime.now()\n",
    "utc_now = dt.datetime.now(dt.UTC)\n",
    "# time_difference = (utc_now - here_now)\n",
    "print(f\"My time     : {here_now:%I:%M %p}\")\n",
    "print(f\"UTC time    : {here_now:%I:%M %p}\")\n",
    "# print(f\"Difference  : {time_difference}\")"
   ]
  }
 ],
 "metadata": {
  "kernelspec": {
   "display_name": "Python 3",
   "language": "python",
   "name": "python3"
  },
  "language_info": {
   "codemirror_mode": {
    "name": "ipython",
    "version": 3
   },
   "file_extension": ".py",
   "mimetype": "text/x-python",
   "name": "python",
   "nbconvert_exporter": "python",
   "pygments_lexer": "ipython3",
   "version": "3.12.6"
  }
 },
 "nbformat": 4,
 "nbformat_minor": 2
}
